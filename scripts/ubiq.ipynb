{
  "nbformat": 4,
  "nbformat_minor": 0,
  "metadata": {
    "colab": {
      "name": "ubiq.ipynb",
      "provenance": [],
      "collapsed_sections": [],
      "include_colab_link": true
    },
    "kernelspec": {
      "name": "python3",
      "display_name": "Python 3"
    },
    "language_info": {
      "name": "python"
    }
  },
  "cells": [
    {
      "cell_type": "markdown",
      "metadata": {
        "id": "view-in-github",
        "colab_type": "text"
      },
      "source": [
        "<a href=\"https://colab.research.google.com/github/jyha200/Mobi_Ubiq_Project/blob/main/scripts/ubiq.ipynb\" target=\"_parent\"><img src=\"https://colab.research.google.com/assets/colab-badge.svg\" alt=\"Open In Colab\"/></a>"
      ]
    },
    {
      "cell_type": "code",
      "execution_count": null,
      "metadata": {
        "colab": {
          "base_uri": "https://localhost:8080/"
        },
        "id": "6IY_tpGKpBde",
        "outputId": "42ac7f42-7149-4e00-f578-547d782163fb"
      },
      "outputs": [
        {
          "output_type": "stream",
          "name": "stdout",
          "text": [
            "\u001b[K     |████████████████████████████████| 616 kB 1.1 MB/s \n",
            "\u001b[K     |████████████████████████████████| 120 kB 51.2 MB/s \n",
            "\u001b[K     |████████████████████████████████| 1.1 MB 40.7 MB/s \n",
            "\u001b[K     |████████████████████████████████| 596 kB 48.0 MB/s \n",
            "\u001b[K     |████████████████████████████████| 6.4 MB 47.2 MB/s \n",
            "\u001b[K     |████████████████████████████████| 840 kB 49.6 MB/s \n",
            "\u001b[K     |████████████████████████████████| 87 kB 6.3 MB/s \n",
            "\u001b[K     |████████████████████████████████| 3.4 MB 27.3 MB/s \n",
            "\u001b[K     |████████████████████████████████| 1.2 MB 33.8 MB/s \n",
            "\u001b[K     |████████████████████████████████| 77 kB 5.4 MB/s \n",
            "\u001b[K     |████████████████████████████████| 1.1 MB 43.2 MB/s \n",
            "\u001b[K     |████████████████████████████████| 237 kB 54.4 MB/s \n",
            "\u001b[K     |████████████████████████████████| 213 kB 51.4 MB/s \n",
            "\u001b[K     |████████████████████████████████| 47.8 MB 64 kB/s \n",
            "\u001b[K     |████████████████████████████████| 352 kB 69.4 MB/s \n",
            "\u001b[K     |████████████████████████████████| 99 kB 7.9 MB/s \n",
            "\u001b[K     |████████████████████████████████| 25.3 MB 1.4 MB/s \n",
            "\u001b[K     |████████████████████████████████| 462 kB 74.0 MB/s \n",
            "\u001b[?25h  Building wheel for fire (setup.py) ... \u001b[?25l\u001b[?25hdone\n",
            "  Building wheel for py-cpuinfo (setup.py) ... \u001b[?25l\u001b[?25hdone\n"
          ]
        }
      ],
      "source": [
        "pip install -q --use-deprecated=legacy-resolver tflite-model-maker"
      ]
    },
    {
      "cell_type": "code",
      "source": [
        "pip install -q pycocotools"
      ],
      "metadata": {
        "id": "5fbsm99JpFir"
      },
      "execution_count": null,
      "outputs": []
    },
    {
      "cell_type": "code",
      "source": [
        "import numpy as np\n",
        "import os"
      ],
      "metadata": {
        "id": "Grm5KR2BpQOP"
      },
      "execution_count": null,
      "outputs": []
    },
    {
      "cell_type": "code",
      "source": [
        "from tflite_model_maker.config import QuantizationConfig\n",
        "from tflite_model_maker.config import ExportFormat\n",
        "from tflite_model_maker import model_spec\n",
        "from tflite_model_maker import object_detector\n",
        "\n",
        "import tensorflow as tf\n",
        "assert tf.__version__.startswith('2')\n",
        "\n",
        "tf.get_logger().setLevel('ERROR')\n",
        "from absl import logging\n",
        "logging.set_verbosity(logging.ERROR)"
      ],
      "metadata": {
        "id": "wZWKQoX6pT6i"
      },
      "execution_count": null,
      "outputs": []
    },
    {
      "cell_type": "code",
      "source": [
        "spec = model_spec.get('efficientdet_lite0')"
      ],
      "metadata": {
        "id": "i-kGYQj5pWEl"
      },
      "execution_count": null,
      "outputs": []
    },
    {
      "cell_type": "code",
      "source": [
        "# import os, random, shutil\n",
        "\n",
        "# # os.mkdir('/content/drive/MyDrive/ubiq/train/jpg/train')\n",
        "# # os.mkdir('/content/drive/MyDrive/ubiq/train/jpg/test')\n",
        "\n",
        "# image_paths = os.listdir('/content/drive/MyDrive/ubiq/train/jpg')\n",
        "# random.shuffle(image_paths)\n",
        "\n",
        "# for i, image_path in enumerate(image_paths):\n",
        "#   if i < int(len(image_paths) * 0.8):\n",
        "#     shutil.copy(f'/content/drive/MyDrive/ubiq/train/jpg/{image_path}', '/content/drive/MyDrive/ubiq/train/jpg/train')\n",
        "#     shutil.copy(f'/content/drive/MyDrive/ubiq/train/jpg/{image_path.replace(\"JPG\", \"xml\")}', '/content/drive/MyDrive/ubiq/train/jpg/train')\n",
        "#   else:\n",
        "#     shutil.copy(f'chess-detection/images/{image_path}', 'chess-detection/test')\n",
        "# #     shutil.copy(f'chess-detection/annotations/{image_path.replace(\"JPG\", \"xml\")}', 'chess-detection/test')"
      ],
      "metadata": {
        "id": "CZ6Gp2hY6egb"
      },
      "execution_count": null,
      "outputs": []
    },
    {
      "cell_type": "code",
      "source": [
        "# train_data, validation_data, test_data = object_detector.DataLoader.from_csv('gs://cloud-ml-data/img/openimage/csv/salads_ml_use.csv')\n",
        "\n",
        "train_image_dir= \"/content/drive/MyDrive/ubiq/dataset/train/jpg\"\n",
        "train_annotation_dir= \"/content/drive/MyDrive/ubiq/dataset/train/xml\"\n",
        "\n",
        "test_image_dir= \"/content/drive/MyDrive/ubiq/dataset/test/jpg\"\n",
        "test_annotation_dir= \"/content/drive/MyDrive/ubiq/dataset/test/xml\"\n",
        "\n",
        "# label_map= [\"machine\", \"handwash\", \"nowater\", \"bleach_O\", \"bleach_X\", \"dryer_O\", \"dryer_X\", \"wring_O\", \"wring_X\", \"sun\", \"shade\", \"iron_O\", \"iron_X\", \"dryclean_O\", \"dryclean_X\"]\n",
        "label_map= { 1:\"machine\", \n",
        "            2:\"handwash\",\n",
        "            3:\"nowater\",\n",
        "            4:\"bleach_O\",\n",
        "            5:\"bleach_X\",\n",
        "            6:\"dryer_O\", \n",
        "            7:\"dryer_X\", \n",
        "            8:\"wring_O\",\n",
        "            9:\"wring_X\",\n",
        "            10:\"sun\",\n",
        "            11:\"shade\",\n",
        "            12:\"iron_O\"            , \n",
        "            13:\"iron_X\", \n",
        "            14:\"dryclean_O\",\n",
        "            15:\"dryclean_X\"}\n",
        "\n",
        "\n",
        "\n",
        "# train_data, validation_data, test_data = object_detector.DataLoader.from_pascal_voc(image_dir, annotation_dir, label_map)\n",
        "train_dataLoader = object_detector.DataLoader.from_pascal_voc(train_image_dir, train_annotation_dir, label_map)\n",
        "test_dataLoader = object_detector.DataLoader.from_pascal_voc(test_image_dir, test_annotation_dir, label_map)\n",
        "\n",
        "\n",
        "# model = object_detector.create(train_data, model_spec=spec, batch_size=8, train_whole_model=True, validation_data=test_data)\n",
        "\n",
        "# model.evaluate(test_data)\n",
        "\n",
        "# model.export(export_dir='.')\n",
        "\n",
        "# model.evaluate_tflite('model.tflite', test_data)\n",
        "\n"
      ],
      "metadata": {
        "id": "TVnW51U_qjxH"
      },
      "execution_count": null,
      "outputs": []
    },
    {
      "cell_type": "code",
      "source": [
        "# model = object_detector.create(train_data, model_spec=spec, batch_size=8, train_whole_model=True, validation_data=test_data)\n",
        "\n",
        "# train_data_full = train_dataLoader.gen_dataset(model_spec=spec, batch_size=8,is_training=False, use_fake_data=False)\n",
        "# test_data_full = test_dataLoader.gen_dataset(model_spec=spec, batch_size=8,is_training=False, use_fake_data=False)\n"
      ],
      "metadata": {
        "id": "qJ0JOWHtB42u"
      },
      "execution_count": null,
      "outputs": []
    },
    {
      "cell_type": "code",
      "source": [
        "print(train_dataLoader.size)"
      ],
      "metadata": {
        "colab": {
          "base_uri": "https://localhost:8080/"
        },
        "id": "OOiTWrRHCklD",
        "outputId": "c6bc8bae-d4e4-4aaf-9381-f4ac26adaafa"
      },
      "execution_count": null,
      "outputs": [
        {
          "output_type": "stream",
          "name": "stdout",
          "text": [
            "372\n"
          ]
        }
      ]
    },
    {
      "cell_type": "code",
      "source": [
        "model = object_detector.create(train_dataLoader, model_spec=spec, batch_size=8, train_whole_model=True, validation_data=test_dataLoader)\n"
      ],
      "metadata": {
        "colab": {
          "base_uri": "https://localhost:8080/"
        },
        "id": "L4d3MzcMCXHO",
        "outputId": "afc207f2-136e-48b9-fd19-8d631e4e25aa"
      },
      "execution_count": null,
      "outputs": [
        {
          "output_type": "stream",
          "name": "stdout",
          "text": [
            "Epoch 1/50\n",
            "46/46 [==============================] - 239s 4s/step - det_loss: 1.7544 - cls_loss: 1.1648 - box_loss: 0.0118 - reg_l2_loss: 0.0652 - loss: 1.8196 - learning_rate: 0.0090 - gradient_norm: 0.9798 - val_det_loss: 1.5589 - val_cls_loss: 1.1174 - val_box_loss: 0.0088 - val_reg_l2_loss: 0.0652 - val_loss: 1.6241\n",
            "Epoch 2/50\n",
            "46/46 [==============================] - 201s 4s/step - det_loss: 1.6323 - cls_loss: 1.1079 - box_loss: 0.0105 - reg_l2_loss: 0.0652 - loss: 1.6975 - learning_rate: 0.0100 - gradient_norm: 1.2894 - val_det_loss: 1.4894 - val_cls_loss: 1.0505 - val_box_loss: 0.0088 - val_reg_l2_loss: 0.0652 - val_loss: 1.5546\n",
            "Epoch 3/50\n",
            "46/46 [==============================] - 199s 4s/step - det_loss: 1.4792 - cls_loss: 1.0022 - box_loss: 0.0095 - reg_l2_loss: 0.0652 - loss: 1.5444 - learning_rate: 0.0099 - gradient_norm: 1.7800 - val_det_loss: 1.4605 - val_cls_loss: 1.0195 - val_box_loss: 0.0088 - val_reg_l2_loss: 0.0653 - val_loss: 1.5257\n",
            "Epoch 4/50\n",
            "46/46 [==============================] - 207s 5s/step - det_loss: 1.2879 - cls_loss: 0.8852 - box_loss: 0.0081 - reg_l2_loss: 0.0653 - loss: 1.3532 - learning_rate: 0.0099 - gradient_norm: 2.1195 - val_det_loss: 1.4365 - val_cls_loss: 0.9818 - val_box_loss: 0.0091 - val_reg_l2_loss: 0.0653 - val_loss: 1.5018\n",
            "Epoch 5/50\n",
            "46/46 [==============================] - 220s 5s/step - det_loss: 1.2028 - cls_loss: 0.8357 - box_loss: 0.0073 - reg_l2_loss: 0.0653 - loss: 1.2681 - learning_rate: 0.0098 - gradient_norm: 2.2577 - val_det_loss: 1.1879 - val_cls_loss: 0.8355 - val_box_loss: 0.0070 - val_reg_l2_loss: 0.0653 - val_loss: 1.2532\n",
            "Epoch 6/50\n",
            "46/46 [==============================] - 198s 4s/step - det_loss: 1.1280 - cls_loss: 0.7901 - box_loss: 0.0068 - reg_l2_loss: 0.0653 - loss: 1.1933 - learning_rate: 0.0097 - gradient_norm: 2.1523 - val_det_loss: 1.1392 - val_cls_loss: 0.7711 - val_box_loss: 0.0074 - val_reg_l2_loss: 0.0653 - val_loss: 1.2045\n",
            "Epoch 7/50\n",
            "46/46 [==============================] - 209s 5s/step - det_loss: 1.0953 - cls_loss: 0.7663 - box_loss: 0.0066 - reg_l2_loss: 0.0653 - loss: 1.1606 - learning_rate: 0.0096 - gradient_norm: 2.4474 - val_det_loss: 1.1221 - val_cls_loss: 0.7812 - val_box_loss: 0.0068 - val_reg_l2_loss: 0.0653 - val_loss: 1.1874\n",
            "Epoch 8/50\n",
            "46/46 [==============================] - 208s 5s/step - det_loss: 1.0545 - cls_loss: 0.7420 - box_loss: 0.0063 - reg_l2_loss: 0.0654 - loss: 1.1198 - learning_rate: 0.0094 - gradient_norm: 2.4319 - val_det_loss: 1.0686 - val_cls_loss: 0.7528 - val_box_loss: 0.0063 - val_reg_l2_loss: 0.0654 - val_loss: 1.1340\n",
            "Epoch 9/50\n",
            "46/46 [==============================] - 208s 5s/step - det_loss: 1.0317 - cls_loss: 0.7264 - box_loss: 0.0061 - reg_l2_loss: 0.0654 - loss: 1.0971 - learning_rate: 0.0093 - gradient_norm: 2.5352 - val_det_loss: 1.0718 - val_cls_loss: 0.7510 - val_box_loss: 0.0064 - val_reg_l2_loss: 0.0654 - val_loss: 1.1372\n",
            "Epoch 10/50\n",
            "46/46 [==============================] - 221s 5s/step - det_loss: 1.0276 - cls_loss: 0.7217 - box_loss: 0.0061 - reg_l2_loss: 0.0654 - loss: 1.0930 - learning_rate: 0.0091 - gradient_norm: 2.4832 - val_det_loss: 1.0454 - val_cls_loss: 0.7323 - val_box_loss: 0.0063 - val_reg_l2_loss: 0.0654 - val_loss: 1.1108\n",
            "Epoch 11/50\n",
            "46/46 [==============================] - 228s 5s/step - det_loss: 0.9590 - cls_loss: 0.6791 - box_loss: 0.0056 - reg_l2_loss: 0.0654 - loss: 1.0244 - learning_rate: 0.0089 - gradient_norm: 2.3159 - val_det_loss: 1.0149 - val_cls_loss: 0.7302 - val_box_loss: 0.0057 - val_reg_l2_loss: 0.0654 - val_loss: 1.0804\n",
            "Epoch 12/50\n",
            "46/46 [==============================] - 230s 5s/step - det_loss: 0.9855 - cls_loss: 0.6817 - box_loss: 0.0061 - reg_l2_loss: 0.0655 - loss: 1.0509 - learning_rate: 0.0087 - gradient_norm: 2.6497 - val_det_loss: 1.0562 - val_cls_loss: 0.7095 - val_box_loss: 0.0069 - val_reg_l2_loss: 0.0655 - val_loss: 1.1217\n",
            "Epoch 13/50\n",
            "46/46 [==============================] - 226s 5s/step - det_loss: 0.9196 - cls_loss: 0.6405 - box_loss: 0.0056 - reg_l2_loss: 0.0655 - loss: 0.9851 - learning_rate: 0.0085 - gradient_norm: 2.3701 - val_det_loss: 1.1004 - val_cls_loss: 0.7172 - val_box_loss: 0.0077 - val_reg_l2_loss: 0.0655 - val_loss: 1.1659\n",
            "Epoch 14/50\n",
            "46/46 [==============================] - 230s 5s/step - det_loss: 0.9341 - cls_loss: 0.6501 - box_loss: 0.0057 - reg_l2_loss: 0.0655 - loss: 0.9996 - learning_rate: 0.0082 - gradient_norm: 2.5445 - val_det_loss: 1.0729 - val_cls_loss: 0.7065 - val_box_loss: 0.0073 - val_reg_l2_loss: 0.0655 - val_loss: 1.1384\n",
            "Epoch 15/50\n",
            "46/46 [==============================] - 249s 5s/step - det_loss: 0.9230 - cls_loss: 0.6353 - box_loss: 0.0058 - reg_l2_loss: 0.0655 - loss: 0.9885 - learning_rate: 0.0080 - gradient_norm: 2.8052 - val_det_loss: 0.9643 - val_cls_loss: 0.6795 - val_box_loss: 0.0057 - val_reg_l2_loss: 0.0655 - val_loss: 1.0298\n",
            "Epoch 16/50\n",
            "46/46 [==============================] - 226s 5s/step - det_loss: 0.8956 - cls_loss: 0.6131 - box_loss: 0.0057 - reg_l2_loss: 0.0656 - loss: 0.9612 - learning_rate: 0.0077 - gradient_norm: 2.7445 - val_det_loss: 0.9373 - val_cls_loss: 0.6488 - val_box_loss: 0.0058 - val_reg_l2_loss: 0.0656 - val_loss: 1.0028\n",
            "Epoch 17/50\n",
            "46/46 [==============================] - 218s 5s/step - det_loss: 0.8290 - cls_loss: 0.5725 - box_loss: 0.0051 - reg_l2_loss: 0.0656 - loss: 0.8946 - learning_rate: 0.0075 - gradient_norm: 2.5647 - val_det_loss: 0.9186 - val_cls_loss: 0.6217 - val_box_loss: 0.0059 - val_reg_l2_loss: 0.0656 - val_loss: 0.9842\n",
            "Epoch 18/50\n",
            "46/46 [==============================] - 229s 5s/step - det_loss: 0.8895 - cls_loss: 0.6065 - box_loss: 0.0057 - reg_l2_loss: 0.0656 - loss: 0.9551 - learning_rate: 0.0072 - gradient_norm: 2.9296 - val_det_loss: 0.9258 - val_cls_loss: 0.6345 - val_box_loss: 0.0058 - val_reg_l2_loss: 0.0656 - val_loss: 0.9914\n",
            "Epoch 19/50\n",
            "46/46 [==============================] - 226s 5s/step - det_loss: 0.8058 - cls_loss: 0.5528 - box_loss: 0.0051 - reg_l2_loss: 0.0656 - loss: 0.8714 - learning_rate: 0.0069 - gradient_norm: 2.4458 - val_det_loss: 0.9215 - val_cls_loss: 0.6226 - val_box_loss: 0.0060 - val_reg_l2_loss: 0.0656 - val_loss: 0.9871\n",
            "Epoch 20/50\n",
            "46/46 [==============================] - 241s 5s/step - det_loss: 0.8001 - cls_loss: 0.5390 - box_loss: 0.0052 - reg_l2_loss: 0.0656 - loss: 0.8657 - learning_rate: 0.0066 - gradient_norm: 2.4278 - val_det_loss: 0.9984 - val_cls_loss: 0.6801 - val_box_loss: 0.0064 - val_reg_l2_loss: 0.0657 - val_loss: 1.0640\n",
            "Epoch 21/50\n",
            "46/46 [==============================] - 225s 5s/step - det_loss: 0.7825 - cls_loss: 0.5303 - box_loss: 0.0050 - reg_l2_loss: 0.0657 - loss: 0.8482 - learning_rate: 0.0063 - gradient_norm: 2.2760 - val_det_loss: 1.0304 - val_cls_loss: 0.6366 - val_box_loss: 0.0079 - val_reg_l2_loss: 0.0657 - val_loss: 1.0960\n",
            "Epoch 22/50\n",
            "46/46 [==============================] - 220s 5s/step - det_loss: 0.7762 - cls_loss: 0.5238 - box_loss: 0.0050 - reg_l2_loss: 0.0657 - loss: 0.8419 - learning_rate: 0.0060 - gradient_norm: 2.3707 - val_det_loss: 0.8976 - val_cls_loss: 0.6184 - val_box_loss: 0.0056 - val_reg_l2_loss: 0.0657 - val_loss: 0.9633\n",
            "Epoch 23/50\n",
            "46/46 [==============================] - 227s 5s/step - det_loss: 0.7287 - cls_loss: 0.5015 - box_loss: 0.0045 - reg_l2_loss: 0.0657 - loss: 0.7944 - learning_rate: 0.0056 - gradient_norm: 2.4249 - val_det_loss: 0.9438 - val_cls_loss: 0.6158 - val_box_loss: 0.0066 - val_reg_l2_loss: 0.0657 - val_loss: 1.0095\n",
            "Epoch 24/50\n",
            "46/46 [==============================] - 231s 5s/step - det_loss: 0.7358 - cls_loss: 0.5030 - box_loss: 0.0047 - reg_l2_loss: 0.0657 - loss: 0.8014 - learning_rate: 0.0053 - gradient_norm: 2.3423 - val_det_loss: 0.8510 - val_cls_loss: 0.5816 - val_box_loss: 0.0054 - val_reg_l2_loss: 0.0657 - val_loss: 0.9167\n",
            "Epoch 25/50\n",
            "46/46 [==============================] - 238s 5s/step - det_loss: 0.7200 - cls_loss: 0.4917 - box_loss: 0.0046 - reg_l2_loss: 0.0657 - loss: 0.7856 - learning_rate: 0.0050 - gradient_norm: 2.3276 - val_det_loss: 0.9443 - val_cls_loss: 0.6026 - val_box_loss: 0.0068 - val_reg_l2_loss: 0.0657 - val_loss: 1.0100\n",
            "Epoch 26/50\n",
            "46/46 [==============================] - 226s 5s/step - det_loss: 0.7088 - cls_loss: 0.4860 - box_loss: 0.0045 - reg_l2_loss: 0.0657 - loss: 0.7745 - learning_rate: 0.0047 - gradient_norm: 2.3930 - val_det_loss: 0.8705 - val_cls_loss: 0.5813 - val_box_loss: 0.0058 - val_reg_l2_loss: 0.0657 - val_loss: 0.9361\n",
            "Epoch 27/50\n",
            "46/46 [==============================] - 227s 5s/step - det_loss: 0.7290 - cls_loss: 0.4960 - box_loss: 0.0047 - reg_l2_loss: 0.0657 - loss: 0.7947 - learning_rate: 0.0044 - gradient_norm: 2.8420 - val_det_loss: 0.8813 - val_cls_loss: 0.5730 - val_box_loss: 0.0062 - val_reg_l2_loss: 0.0657 - val_loss: 0.9470\n",
            "Epoch 28/50\n",
            "46/46 [==============================] - 233s 5s/step - det_loss: 0.7070 - cls_loss: 0.4826 - box_loss: 0.0045 - reg_l2_loss: 0.0657 - loss: 0.7727 - learning_rate: 0.0040 - gradient_norm: 2.4475 - val_det_loss: 0.9247 - val_cls_loss: 0.5759 - val_box_loss: 0.0070 - val_reg_l2_loss: 0.0657 - val_loss: 0.9904\n",
            "Epoch 29/50\n",
            "46/46 [==============================] - 225s 5s/step - det_loss: 0.7028 - cls_loss: 0.4776 - box_loss: 0.0045 - reg_l2_loss: 0.0657 - loss: 0.7685 - learning_rate: 0.0037 - gradient_norm: 2.8077 - val_det_loss: 0.8126 - val_cls_loss: 0.5639 - val_box_loss: 0.0050 - val_reg_l2_loss: 0.0657 - val_loss: 0.8783\n",
            "Epoch 30/50\n",
            "46/46 [==============================] - 235s 5s/step - det_loss: 0.7142 - cls_loss: 0.4839 - box_loss: 0.0046 - reg_l2_loss: 0.0657 - loss: 0.7799 - learning_rate: 0.0034 - gradient_norm: 2.6718 - val_det_loss: 0.8321 - val_cls_loss: 0.5750 - val_box_loss: 0.0051 - val_reg_l2_loss: 0.0657 - val_loss: 0.8978\n",
            "Epoch 31/50\n",
            "46/46 [==============================] - 230s 5s/step - det_loss: 0.6876 - cls_loss: 0.4685 - box_loss: 0.0044 - reg_l2_loss: 0.0657 - loss: 0.7533 - learning_rate: 0.0031 - gradient_norm: 2.3360 - val_det_loss: 0.9028 - val_cls_loss: 0.5707 - val_box_loss: 0.0066 - val_reg_l2_loss: 0.0657 - val_loss: 0.9685\n",
            "Epoch 32/50\n",
            "46/46 [==============================] - 213s 5s/step - det_loss: 0.6809 - cls_loss: 0.4611 - box_loss: 0.0044 - reg_l2_loss: 0.0657 - loss: 0.7466 - learning_rate: 0.0028 - gradient_norm: 2.4336 - val_det_loss: 0.9122 - val_cls_loss: 0.5799 - val_box_loss: 0.0066 - val_reg_l2_loss: 0.0657 - val_loss: 0.9779\n",
            "Epoch 33/50\n",
            "46/46 [==============================] - 227s 5s/step - det_loss: 0.6758 - cls_loss: 0.4587 - box_loss: 0.0043 - reg_l2_loss: 0.0657 - loss: 0.7415 - learning_rate: 0.0025 - gradient_norm: 2.5192 - val_det_loss: 0.8507 - val_cls_loss: 0.5635 - val_box_loss: 0.0057 - val_reg_l2_loss: 0.0657 - val_loss: 0.9164\n",
            "Epoch 34/50\n",
            "46/46 [==============================] - 215s 5s/step - det_loss: 0.6750 - cls_loss: 0.4590 - box_loss: 0.0043 - reg_l2_loss: 0.0657 - loss: 0.7407 - learning_rate: 0.0023 - gradient_norm: 2.7996 - val_det_loss: 0.8791 - val_cls_loss: 0.5536 - val_box_loss: 0.0065 - val_reg_l2_loss: 0.0657 - val_loss: 0.9448\n",
            "Epoch 35/50\n",
            "46/46 [==============================] - 246s 5s/step - det_loss: 0.6383 - cls_loss: 0.4394 - box_loss: 0.0040 - reg_l2_loss: 0.0657 - loss: 0.7040 - learning_rate: 0.0020 - gradient_norm: 2.4308 - val_det_loss: 0.8622 - val_cls_loss: 0.5592 - val_box_loss: 0.0061 - val_reg_l2_loss: 0.0657 - val_loss: 0.9279\n",
            "Epoch 36/50\n",
            "46/46 [==============================] - 226s 5s/step - det_loss: 0.6568 - cls_loss: 0.4440 - box_loss: 0.0043 - reg_l2_loss: 0.0657 - loss: 0.7224 - learning_rate: 0.0018 - gradient_norm: 2.6916 - val_det_loss: 0.8496 - val_cls_loss: 0.5502 - val_box_loss: 0.0060 - val_reg_l2_loss: 0.0657 - val_loss: 0.9153\n",
            "Epoch 37/50\n",
            "46/46 [==============================] - 224s 5s/step - det_loss: 0.6484 - cls_loss: 0.4396 - box_loss: 0.0042 - reg_l2_loss: 0.0657 - loss: 0.7141 - learning_rate: 0.0015 - gradient_norm: 2.4363 - val_det_loss: 0.8594 - val_cls_loss: 0.5475 - val_box_loss: 0.0062 - val_reg_l2_loss: 0.0657 - val_loss: 0.9251\n",
            "Epoch 38/50\n",
            "46/46 [==============================] - 227s 5s/step - det_loss: 0.6419 - cls_loss: 0.4389 - box_loss: 0.0041 - reg_l2_loss: 0.0657 - loss: 0.7076 - learning_rate: 0.0013 - gradient_norm: 2.5608 - val_det_loss: 0.8769 - val_cls_loss: 0.5589 - val_box_loss: 0.0064 - val_reg_l2_loss: 0.0657 - val_loss: 0.9426\n",
            "Epoch 39/50\n",
            "46/46 [==============================] - 217s 5s/step - det_loss: 0.6473 - cls_loss: 0.4380 - box_loss: 0.0042 - reg_l2_loss: 0.0657 - loss: 0.7130 - learning_rate: 0.0011 - gradient_norm: 2.4788 - val_det_loss: 0.8376 - val_cls_loss: 0.5450 - val_box_loss: 0.0059 - val_reg_l2_loss: 0.0657 - val_loss: 0.9033\n",
            "Epoch 40/50\n",
            "46/46 [==============================] - 225s 5s/step - det_loss: 0.6340 - cls_loss: 0.4331 - box_loss: 0.0040 - reg_l2_loss: 0.0657 - loss: 0.6996 - learning_rate: 8.9995e-04 - gradient_norm: 2.5101 - val_det_loss: 0.8349 - val_cls_loss: 0.5435 - val_box_loss: 0.0058 - val_reg_l2_loss: 0.0657 - val_loss: 0.9005\n",
            "Epoch 41/50\n",
            "46/46 [==============================] - 224s 5s/step - det_loss: 0.6374 - cls_loss: 0.4353 - box_loss: 0.0040 - reg_l2_loss: 0.0657 - loss: 0.7031 - learning_rate: 7.2512e-04 - gradient_norm: 2.5460 - val_det_loss: 0.8411 - val_cls_loss: 0.5433 - val_box_loss: 0.0060 - val_reg_l2_loss: 0.0657 - val_loss: 0.9068\n",
            "Epoch 42/50\n",
            "46/46 [==============================] - 223s 5s/step - det_loss: 0.6332 - cls_loss: 0.4330 - box_loss: 0.0040 - reg_l2_loss: 0.0657 - loss: 0.6989 - learning_rate: 5.6786e-04 - gradient_norm: 2.6165 - val_det_loss: 0.8721 - val_cls_loss: 0.5523 - val_box_loss: 0.0064 - val_reg_l2_loss: 0.0657 - val_loss: 0.9378\n",
            "Epoch 43/50\n",
            "46/46 [==============================] - 229s 5s/step - det_loss: 0.6418 - cls_loss: 0.4396 - box_loss: 0.0040 - reg_l2_loss: 0.0657 - loss: 0.7075 - learning_rate: 4.2881e-04 - gradient_norm: 2.4533 - val_det_loss: 0.8525 - val_cls_loss: 0.5497 - val_box_loss: 0.0061 - val_reg_l2_loss: 0.0657 - val_loss: 0.9182\n",
            "Epoch 44/50\n",
            "46/46 [==============================] - 228s 5s/step - det_loss: 0.6358 - cls_loss: 0.4347 - box_loss: 0.0040 - reg_l2_loss: 0.0657 - loss: 0.7015 - learning_rate: 3.0854e-04 - gradient_norm: 2.5473 - val_det_loss: 0.8561 - val_cls_loss: 0.5477 - val_box_loss: 0.0062 - val_reg_l2_loss: 0.0657 - val_loss: 0.9218\n",
            "Epoch 45/50\n",
            "46/46 [==============================] - 229s 5s/step - det_loss: 0.6339 - cls_loss: 0.4367 - box_loss: 0.0039 - reg_l2_loss: 0.0657 - loss: 0.6996 - learning_rate: 2.0755e-04 - gradient_norm: 2.5981 - val_det_loss: 0.8553 - val_cls_loss: 0.5474 - val_box_loss: 0.0062 - val_reg_l2_loss: 0.0657 - val_loss: 0.9210\n",
            "Epoch 46/50\n",
            "46/46 [==============================] - 224s 5s/step - det_loss: 0.6283 - cls_loss: 0.4303 - box_loss: 0.0040 - reg_l2_loss: 0.0657 - loss: 0.6940 - learning_rate: 1.2626e-04 - gradient_norm: 2.5853 - val_det_loss: 0.8520 - val_cls_loss: 0.5470 - val_box_loss: 0.0061 - val_reg_l2_loss: 0.0657 - val_loss: 0.9177\n",
            "Epoch 47/50\n",
            "46/46 [==============================] - 226s 5s/step - det_loss: 0.6168 - cls_loss: 0.4203 - box_loss: 0.0039 - reg_l2_loss: 0.0657 - loss: 0.6825 - learning_rate: 6.4992e-05 - gradient_norm: 2.5555 - val_det_loss: 0.8528 - val_cls_loss: 0.5463 - val_box_loss: 0.0061 - val_reg_l2_loss: 0.0657 - val_loss: 0.9185\n",
            "Epoch 48/50\n",
            "46/46 [==============================] - 220s 5s/step - det_loss: 0.6418 - cls_loss: 0.4421 - box_loss: 0.0040 - reg_l2_loss: 0.0657 - loss: 0.7075 - learning_rate: 2.4003e-05 - gradient_norm: 2.6732 - val_det_loss: 0.8523 - val_cls_loss: 0.5461 - val_box_loss: 0.0061 - val_reg_l2_loss: 0.0657 - val_loss: 0.9180\n",
            "Epoch 49/50\n",
            "46/46 [==============================] - 226s 5s/step - det_loss: 0.6247 - cls_loss: 0.4264 - box_loss: 0.0040 - reg_l2_loss: 0.0657 - loss: 0.6904 - learning_rate: 3.4621e-06 - gradient_norm: 2.4518 - val_det_loss: 0.8543 - val_cls_loss: 0.5467 - val_box_loss: 0.0062 - val_reg_l2_loss: 0.0657 - val_loss: 0.9200\n",
            "Epoch 50/50\n",
            "46/46 [==============================] - 254s 6s/step - det_loss: 0.6312 - cls_loss: 0.4319 - box_loss: 0.0040 - reg_l2_loss: 0.0657 - loss: 0.6968 - learning_rate: 3.4526e-06 - gradient_norm: 2.7730 - val_det_loss: 0.8527 - val_cls_loss: 0.5459 - val_box_loss: 0.0061 - val_reg_l2_loss: 0.0657 - val_loss: 0.9184\n"
          ]
        }
      ]
    },
    {
      "cell_type": "code",
      "source": [
        "model.evaluate(test_dataLoader)\n"
      ],
      "metadata": {
        "colab": {
          "base_uri": "https://localhost:8080/"
        },
        "id": "IKDQmSf9Qjgl",
        "outputId": "7a4a97b1-3748-49a7-f83d-debba5c789e6"
      },
      "execution_count": null,
      "outputs": [
        {
          "output_type": "stream",
          "name": "stdout",
          "text": [
            "2/2 [==============================] - 58s 23s/step\n",
            "\n"
          ]
        },
        {
          "output_type": "execute_result",
          "data": {
            "text/plain": [
              "{'AP': 0.11337907,\n",
              " 'AP50': 0.3118905,\n",
              " 'AP75': 0.041498575,\n",
              " 'AP_/bleach_O': 0.0,\n",
              " 'AP_/bleach_X': 0.21134879,\n",
              " 'AP_/dryclean_O': 0.2084927,\n",
              " 'AP_/dryclean_X': 0.0821043,\n",
              " 'AP_/dryer_O': 0.00517734,\n",
              " 'AP_/dryer_X': 0.15682335,\n",
              " 'AP_/handwash': 0.1593572,\n",
              " 'AP_/iron_O': 0.26019853,\n",
              " 'AP_/iron_X': 0.0020736037,\n",
              " 'AP_/machine': 0.32444277,\n",
              " 'AP_/nowater': 0.0044179545,\n",
              " 'AP_/shade': 0.1401722,\n",
              " 'AP_/sun': -1.0,\n",
              " 'AP_/wring_O': 0.032698236,\n",
              " 'AP_/wring_X': 0.0,\n",
              " 'APl': -1.0,\n",
              " 'APm': 0.11489815,\n",
              " 'APs': 0.18479495,\n",
              " 'ARl': -1.0,\n",
              " 'ARm': 0.3149293,\n",
              " 'ARmax1': 0.20205145,\n",
              " 'ARmax10': 0.3025227,\n",
              " 'ARmax100': 0.3052863,\n",
              " 'ARs': 0.27584586}"
            ]
          },
          "metadata": {},
          "execution_count": 44
        }
      ]
    },
    {
      "cell_type": "code",
      "source": [
        "model.export(export_dir='/content/drive/MyDrive/ubiq')\n",
        "\n"
      ],
      "metadata": {
        "id": "zp0r-yGxC3LG"
      },
      "execution_count": null,
      "outputs": []
    },
    {
      "cell_type": "code",
      "source": [
        "model.evaluate_tflite('/content/drive/MyDrive/ubiq/model.tflite', test_dataLoader)"
      ],
      "metadata": {
        "colab": {
          "base_uri": "https://localhost:8080/"
        },
        "id": "TvAKK3pgDfoa",
        "outputId": "e7f11a79-df72-42aa-a2ed-a8bdab81a491"
      },
      "execution_count": null,
      "outputs": [
        {
          "output_type": "stream",
          "name": "stdout",
          "text": [
            "108/108 [==============================] - 296s 3s/step\n",
            "\n"
          ]
        },
        {
          "output_type": "execute_result",
          "data": {
            "text/plain": [
              "{'AP': 0.095165156,\n",
              " 'AP50': 0.2640674,\n",
              " 'AP75': 0.03574026,\n",
              " 'AP_/bleach_O': 0.0,\n",
              " 'AP_/bleach_X': 0.20188867,\n",
              " 'AP_/dryclean_O': 0.18356691,\n",
              " 'AP_/dryclean_X': 0.043350805,\n",
              " 'AP_/dryer_O': 0.0,\n",
              " 'AP_/dryer_X': 0.12875807,\n",
              " 'AP_/handwash': 0.13266139,\n",
              " 'AP_/iron_O': 0.24530719,\n",
              " 'AP_/iron_X': 0.0,\n",
              " 'AP_/machine': 0.28486377,\n",
              " 'AP_/nowater': 0.0,\n",
              " 'AP_/shade': 0.10861696,\n",
              " 'AP_/sun': -1.0,\n",
              " 'AP_/wring_O': 0.0032983886,\n",
              " 'AP_/wring_X': 0.0,\n",
              " 'APl': -1.0,\n",
              " 'APm': 0.09837413,\n",
              " 'APs': 0.10463475,\n",
              " 'ARl': -1.0,\n",
              " 'ARm': 0.19066365,\n",
              " 'ARmax1': 0.14991851,\n",
              " 'ARmax10': 0.18206845,\n",
              " 'ARmax100': 0.18206845,\n",
              " 'ARs': 0.13804767}"
            ]
          },
          "metadata": {},
          "execution_count": 46
        }
      ]
    },
    {
      "cell_type": "code",
      "source": [
        "# from google.colab import drive\n",
        "# drive.mount('/content/drive')"
      ],
      "metadata": {
        "id": "jCINOAObs9jX"
      },
      "execution_count": null,
      "outputs": []
    }
  ]
}